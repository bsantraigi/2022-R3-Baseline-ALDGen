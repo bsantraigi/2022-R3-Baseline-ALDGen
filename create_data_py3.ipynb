{
 "cells": [
  {
   "cell_type": "markdown",
   "metadata": {},
   "source": [
    "## Dataset creation\n",
    "\n",
    "We need to create the following files:\n",
    "\n",
    "1. gen_data\n",
    "    1. chitchat.train.{query, answer}\n",
    "    2. chitchat.dev.{query, answer}\n",
    "2. disc_data\n",
    "    1. train.{query,answer,gen}\n",
    "    1. dev.{query,answer,gen}    "
   ]
  },
  {
   "cell_type": "code",
   "execution_count": null,
   "metadata": {},
   "outputs": [],
   "source": [
    "%%bash\n",
    "\n",
    "mkdir -p {dd,dd_cc,dstc7}/{gen_data,disc_data}"
   ]
  },
  {
   "cell_type": "code",
   "execution_count": 3,
   "metadata": {},
   "outputs": [],
   "source": [
    "# def create_dstc7_data():\n",
    "\n",
    "# Preprocessed data exists in Adalabel repo..."
   ]
  },
  {
   "cell_type": "code",
   "execution_count": 4,
   "metadata": {},
   "outputs": [],
   "source": [
    "%%bash\n",
    "cd raw_data/dstc7/\n",
    "\n",
    "ls\n",
    "\n",
    "unzip src-train.zip\n",
    "\n",
    "ls -lh\n",
    "\n",
    "cd ../../\n",
    "\n",
    "cp raw_data/dstc7/src-train.txt dstc7/gen_data/chitchat.train.query\n",
    "cp raw_data/dstc7/tgt-train.txt dstc7/gen_data/chitchat.train.answer\n",
    "\n",
    "cp raw_data/dstc7/src-valid.txt dstc7/gen_data/chitchat.dev.query\n",
    "cp raw_data/dstc7/tgt-valid.txt dstc7/gen_data/chitchat.dev.answer\n",
    "\n",
    "cp raw_data/dstc7/src-train.txt dstc7/disc_data/train.query\n",
    "cp raw_data/dstc7/tgt-train.txt dstc7/disc_data/train.answer\n",
    "\n",
    "cp raw_data/dstc7/src-valid.txt dstc7/disc_data/dev.query\n",
    "cp raw_data/dstc7/tgt-valid.txt dstc7/disc_data/dev.answer"
   ]
  },
  {
   "cell_type": "code",
   "execution_count": 11,
   "metadata": {},
   "outputs": [],
   "source": [
    "def create_dd_data(dd_path, output_path):\n",
    "    # Works for both dd and dd_cc\n",
    "    # Process\n",
    "    for split in ['train', 'validation', 'test']:\n",
    "        dialogs = []\n",
    "        data = []\n",
    "\n",
    "        with open(os.path.join(dd_path, split, \"dialogues_{}.txt\".format(split))) as f:\n",
    "            for line in f:\n",
    "                dialogs.append(line.strip(\"__eou__\").strip().split(\"__eou__\"))\n",
    "\n",
    "            for dial in tqdm(dialogs):\n",
    "                for i in range(2, len(dial)):\n",
    "                    src = [x.strip() for x in dial[:i]]\n",
    "                    src = \" [SEP] \".join(src)\n",
    "                    trg = dial[i].strip()\n",
    "                    if trg!=\"\":\n",
    "                        data.append((src, trg))\n",
    "\n",
    "        # with open(os.path.join(dd_path, \"{}.ctx.txt\".format(split)), \"w\") as f:\n",
    "        #     for line in data:\n",
    "        #         f.write(\"{}\\n\".format(line[0]))\n",
    "\n",
    "        s = split\n",
    "        if s==\"validation\":\n",
    "            s = \"dev\"\n",
    "\n",
    "        #gen_data\n",
    "        with open(os.path.join(output_path, \"gen_data/chitchat.{}.query\".format(s)), \"w\") as f:\n",
    "            for src, _ in data:\n",
    "                f.write(\"{}\\n\".format(src))\n",
    "\n",
    "        with open(os.path.join(output_path, \"gen_data/chitchat.{}.answer\".format(s)), \"w\") as f:\n",
    "            for _, tgt in data:\n",
    "                f.write(\"{}\\n\".format(tgt))\n",
    "\n",
    "        #disc_data\n",
    "        with open(os.path.join(output_path, \"disc_data/{}.query\".format(s)), \"w\") as f:\n",
    "            for src, _ in data:\n",
    "                f.write(\"{}\\n\".format(src))\n",
    "\n",
    "        with open(os.path.join(output_path, \"disc_data/{}.answer\".format(s)), \"w\") as f:\n",
    "            for _, tgt in data:\n",
    "                f.write(\"{}\\n\".format(tgt))\n",
    "\n",
    "        print(\"Processed {}\".format(split))"
   ]
  },
  {
   "cell_type": "code",
   "execution_count": 12,
   "metadata": {},
   "outputs": [
    {
     "name": "stderr",
     "output_type": "stream",
     "text": [
      "100%|██████████| 8973/8973 [00:00<00:00, 65548.21it/s]\n"
     ]
    },
    {
     "name": "stdout",
     "output_type": "stream",
     "text": [
      "Processed train\n"
     ]
    },
    {
     "name": "stderr",
     "output_type": "stream",
     "text": [
      "100%|██████████| 1000/1000 [00:00<00:00, 62002.81it/s]"
     ]
    },
    {
     "name": "stdout",
     "output_type": "stream",
     "text": [
      "Processed validation\n"
     ]
    },
    {
     "name": "stderr",
     "output_type": "stream",
     "text": [
      "\n",
      "100%|██████████| 1000/1000 [00:00<00:00, 59774.32it/s]\n"
     ]
    },
    {
     "name": "stdout",
     "output_type": "stream",
     "text": [
      "Processed test\n"
     ]
    },
    {
     "name": "stderr",
     "output_type": "stream",
     "text": [
      "100%|██████████| 11118/11118 [00:00<00:00, 53495.96it/s]\n"
     ]
    },
    {
     "name": "stdout",
     "output_type": "stream",
     "text": [
      "Processed train\n"
     ]
    },
    {
     "name": "stderr",
     "output_type": "stream",
     "text": [
      "100%|██████████| 1000/1000 [00:00<00:00, 41341.93it/s]\n"
     ]
    },
    {
     "name": "stdout",
     "output_type": "stream",
     "text": [
      "Processed validation\n"
     ]
    },
    {
     "name": "stderr",
     "output_type": "stream",
     "text": [
      "100%|██████████| 1000/1000 [00:00<00:00, 44085.14it/s]\n"
     ]
    },
    {
     "name": "stdout",
     "output_type": "stream",
     "text": [
      "Processed test\n"
     ]
    }
   ],
   "source": [
    "import os\n",
    "from tqdm import tqdm\n",
    "\n",
    "# PATHs\n",
    "\n",
    "# dd_path, output_path\n",
    "\n",
    "# A: DD_cc\n",
    "create_dd_data(\"./raw_data/ijcnlp_dailydialog_cc/\", os.path.join(\"./dd_cc/\"))\n",
    "\n",
    "# B: DD\n",
    "create_dd_data(\"./raw_data/ijcnlp_dailydialog/\", os.path.join(\"./dd/\"))\n"
   ]
  },
  {
   "cell_type": "code",
   "execution_count": null,
   "metadata": {},
   "outputs": [],
   "source": []
  }
 ],
 "metadata": {
  "kernelspec": {
   "display_name": "Python 3",
   "language": "python",
   "name": "python3"
  },
  "language_info": {
   "codemirror_mode": {
    "name": "ipython",
    "version": 3
   },
   "file_extension": ".py",
   "mimetype": "text/x-python",
   "name": "python",
   "nbconvert_exporter": "python",
   "pygments_lexer": "ipython3",
   "version": "3.7.8"
  }
 },
 "nbformat": 4,
 "nbformat_minor": 5
}
