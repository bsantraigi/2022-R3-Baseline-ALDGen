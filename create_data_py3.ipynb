{
 "cells": [
  {
   "cell_type": "code",
   "execution_count": 3,
   "id": "a47c9da8-a88f-450e-90aa-2dfa171aef21",
   "metadata": {},
   "outputs": [
    {
     "name": "stderr",
     "output_type": "stream",
     "text": [
      "100%|██████████| 8973/8973 [00:00<00:00, 87788.37it/s]\n"
     ]
    },
    {
     "name": "stdout",
     "output_type": "stream",
     "text": [
      "Processed train\n"
     ]
    },
    {
     "name": "stderr",
     "output_type": "stream",
     "text": [
      "100%|██████████| 1000/1000 [00:00<00:00, 98508.71it/s]\n"
     ]
    },
    {
     "name": "stdout",
     "output_type": "stream",
     "text": [
      "Processed validation\n"
     ]
    },
    {
     "name": "stderr",
     "output_type": "stream",
     "text": [
      "100%|██████████| 1000/1000 [00:00<00:00, 94051.13it/s]"
     ]
    },
    {
     "name": "stdout",
     "output_type": "stream",
     "text": [
      "Processed test\n"
     ]
    },
    {
     "name": "stderr",
     "output_type": "stream",
     "text": [
      "\n"
     ]
    }
   ],
   "source": [
    "import os\n",
    "from tqdm import tqdm\n",
    "\n",
    "# PATHs\n",
    "# dd_path = \"./data/ijcnlp_dailydialog/\"\n",
    "dd_path = \"./data/ijcnlp_dailydialog_cc/\"\n",
    "output_path = os.path.join(\"./data/data_daily_cc/\")\n",
    "\n",
    "# if not os.path.exists(output_path):\n",
    "#     os.makedirs(output_path)\n",
    "\n",
    "# Process\n",
    "for split in ['train', 'validation', 'test']:\n",
    "    dialogs = []\n",
    "    data = []\n",
    "\n",
    "    with open(os.path.join(dd_path, split, \"dialogues_{}.txt\".format(split))) as f:\n",
    "        for line in f:\n",
    "            dialogs.append(line.strip(\"__eou__\").strip().split(\"__eou__\"))\n",
    "\n",
    "        for dial in tqdm(dialogs):\n",
    "            for i in range(2, len(dial)):\n",
    "                src = [x.strip() for x in dial[:i]]\n",
    "                src = \" [SEP] \".join(src)\n",
    "                trg = dial[i].strip()\n",
    "                if trg!=\"\":\n",
    "                    data.append((src, trg))\n",
    "\n",
    "    # with open(os.path.join(dd_path, \"{}.ctx.txt\".format(split)), \"w\") as f:\n",
    "    #     for line in data:\n",
    "    #         f.write(\"{}\\n\".format(line[0]))\n",
    "\n",
    "    s = split\n",
    "    if s==\"validation\":\n",
    "        s = \"valid\"\n",
    "    with open(os.path.join(output_path, \"src-{}.txt\".format(s)), \"w\") as f:\n",
    "        for src, _ in data:\n",
    "            f.write(\"{}\\n\".format(src))\n",
    "\n",
    "    with open(os.path.join(output_path, \"tgt-{}.txt\".format(s)), \"w\") as f:\n",
    "        for _, tgt in data:\n",
    "            f.write(\"{}\\n\".format(tgt))\n",
    "\n",
    "    print(\"Processed {}\".format(split))\n",
    "\n"
   ]
  },
  {
   "cell_type": "code",
   "execution_count": null,
   "id": "200be0bf-9d09-4ccf-832c-7cae88f99fbd",
   "metadata": {},
   "outputs": [],
   "source": []
  }
 ],
 "metadata": {
  "kernelspec": {
   "display_name": "Python 3",
   "language": "python",
   "name": "python3"
  },
  "language_info": {
   "codemirror_mode": {
    "name": "ipython",
    "version": 3
   },
   "file_extension": ".py",
   "mimetype": "text/x-python",
   "name": "python",
   "nbconvert_exporter": "python",
   "pygments_lexer": "ipython3",
   "version": "3.7.8"
  }
 },
 "nbformat": 4,
 "nbformat_minor": 5
}
